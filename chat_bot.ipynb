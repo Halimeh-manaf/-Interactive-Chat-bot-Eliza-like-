{
 "cells": [
  {
   "cell_type": "markdown",
   "metadata": {
    "name": "hallo",
    "tags": [
     "test"
    ]
   },
   "source": [
    "<div class=\"headline\">\n",
    "Grundlagen künstlicher Intelligenz\n",
    "<br><br>\n",
    "Sommersemester 2019\n",
    "</div>\n",
    "<br>\n",
    "<div class=\"description\">\n",
    "    Übung zum Thema <i id=\"topic\">\"Intelligenz\"</i>\n",
    "    <br><br>\n",
    "    Deadline Abgabe: <i #id=\"submission\">Freitag, 26.4.2019 (23:55 Uhr)</i>\n",
    "    <br><br>\n",
    "    Name: Manaf Halimeh\n",
    "    <br><br>\n",
    "    ID: 3072716\n",
    "\n",
    "</div>"
   ]
  },
  {
   "cell_type": "markdown",
   "metadata": {},
   "source": [
    "## Hausübung"
   ]
  },
  {
   "cell_type": "markdown",
   "metadata": {
    "collapsed": true
   },
   "source": [
    "<div class=\"task_description\">\n",
    "    <i class=\"task\">Homework 1.1</i> - <i class=\"points\">4 Punkte</i> <br><br>\n",
    "\n",
    "\n",
    "In der Pflichtlektüre Russel & Norvig, Kapitel 26.3, werden verschiedene ethische Probleme diskutiert, die durch die Weiterentwicklung von künstlicher Intelligenz auftreten können. Seit einigen Jahren basiert fast alle neu entwickelte Software in der KI auf maschinellen Lernverfahren, die auf Big Data trainiert werden. Nennen Sie zwei weitere ethische Probleme, die dadurch entstehen könnten. Begründen Sie Ihre Antwort und nennen Sie mögliche Lösungen.\n",
    "\n",
    "1- Privacy\n",
    "The importance of privacy is all over the news lately ( Facebook case in USA for example). Having all this new machine learning techniques needs big data so you can train the algorithom on it. For me, I always have this question, if people know how much their data is exposed and used for \" maybe \" good purpose, will they agree?\n",
    "Personally, I have little experience with machine learning, I completely understand the need for the big data. I think the solution for this is being honest. Force whoever want to use your data to let you decide whether to agree or not. \n",
    "\n",
    "2-Will it change our behaviour?\n",
    "\n",
    "After I heard about the Turing Challenge in the lecture, I was amazed by it. The Chatbot Eugene Goostman succeeded for the first time, being able to fool more than half of the humans involved in what they thought was chatting with a person not a machine. This is only the start of an age where we will interact more frequently with machines as if they were humans. People have some limitations when it comes to attention and kindness, AI technologies have unlimited resources to build relationships and never get tired. This can be used for bad things. For example, if developed properly, can fool people with fake news or dangerous stuff. The solution for this in my opinion is to control the big projects of AI and try to avoid publishing the stuff that can be used badly. \n",
    "\n",
    "\n",
    "</div>"
   ]
  },
  {
   "cell_type": "markdown",
   "metadata": {},
   "source": [
    "<div class=\"task_description\">\n",
    "    <i class=\"task\">Homework 1.2</i> - <i class=\"points\">5 Punkte</i> <br>\n",
    "    \n",
    "Erweitern Sie den Beispielcode einer simplen Eliza Implementierung, um die unten beschriebenen Fähigkeiten zu ermöglichen. Verwenden Sie dabei reguläre Ausdrücke (regular expressions). Kommentieren Sie ihren Code!\n",
    "\n",
    "* Eliza sollte in der Lage sein, auf die Nennung von Familienmitgliedern (\"Vater\", \"Schwester\", etc) zu reagieren.\n",
    "* Eliza sollte Negation in den Aussagen erkennen können.\n",
    "* Eliza sollte die Konjunktionen \"und\" und \"oder\" unterscheiden und unterschiedlich reagieren können.\n",
    "* Eine Fähigkeit Ihrer Wahl.\n",
    "</div>"
   ]
  },
  {
   "cell_type": "code",
   "execution_count": 22,
   "metadata": {},
   "outputs": [],
   "source": [
    "import random\n",
    "import re\n",
    "\n",
    "\n",
    "class SimpleEliza:\n",
    "\n",
    "    def translate(this):\n",
    "        reflection_of = {\n",
    "            \"am\": \"are\",\n",
    "            \"was\": \"were\",\n",
    "            \"i\": \"you\",\n",
    "            \"i'd\": \"you would\",\n",
    "            \"i've\": \"you have\",\n",
    "            \"i'll\": \"you will\",\n",
    "            \"i'm\": \"you are\",\n",
    "            \"my\": \"your\",\n",
    "            \"are\": \"am\",\n",
    "            \"you're\": \"I am\",\n",
    "            \"you've\": \"I have\",\n",
    "            \"you'll\": \"I will\",\n",
    "            \"your\": \"my\",\n",
    "            \"yours\": \"mine\",\n",
    "            \"you\": \"me\",\n",
    "            \"me\": \"you\"}\n",
    "        return ' '.join(reflection_of[word] if word in reflection_of else word\n",
    "                        for word in re.findall(r\"[\\w']+\", this.lower()))\n",
    "\n",
    "\n",
    "    def run(self):\n",
    "\n",
    "        \n",
    "# - A set of regular expressions that should be matched against what the user says.  If \n",
    "# there is a match, an appropriate response can be used from the list of possible \n",
    "# responses. The response contains \" sometimes \" expression \"%1\". It will be replaced with \n",
    "# the translation of the group number from the regular expression match. \n",
    "\n",
    "\n",
    "        rules = [(re.compile(x[0]), x[1]) for x in [\n",
    "            [\"Why can't I (.*)\",\n",
    "             [\"If you could %1, what would you do?\"]],\n",
    "            [\"I can't (.*)\",\n",
    "             [\"What would it take for you to %1?\"]],\n",
    "            [\"Hello(.*)\",\n",
    "             [\"Hello, how are you feeling today?\"]],\n",
    "            [\"(.*) friend(.*)\",\n",
    "             [\"Tell me more about your friends.\"]],\n",
    "            [\"No\",\n",
    "             [\"Why not?\"]],\n",
    "            [\"Is it (.*)\",\n",
    "             [\"Do you think it is %1?\"]],\n",
    "            [\"It is (.*)\",\n",
    "             [\"If I told you that it probably isn't %1, what would you feel?\"]],\n",
    "            [\"Can you (.*)\",\n",
    "             [\"What makes you think I can't %1?\"]],\n",
    "            [\"Can I (.*)\",\n",
    "             [\"Do you want to be able to %1?\"]],\n",
    "            [\"You are (.*)\",\n",
    "             [\"Why do you say I am %1?\"]],\n",
    "            [\"I don't (.*)\", # Negating\n",
    "             [\"Do you want to %1?\"]],\n",
    "            [\"I feel (.*)\",\n",
    "             [\"Do you often feel %1?\"]],\n",
    "            [\"I have (.*)\",\n",
    "             [\"Why do you tell me that you've %1?\"]],\n",
    "            [\"My (.*)\",\n",
    "             [\"Why do you say that your %1?\"]],\n",
    "            [\"You (.*)\",\n",
    "             [\"Why do you care whether I %1?\"]],\n",
    "            [\"(.*) mother(.*)\",\n",
    "             [\"Tell me more about your mother.\"]],\n",
    "            [\"(.*) father(.*)\",   # the family ability\n",
    "             [\"Tell me more about your father.\"]],\n",
    "            [\"(.*)\\?\",\n",
    "             [\"Interesting stuff\"]],\n",
    "            [\"(.*) and(.*)\", # \" And \" ability\n",
    "             [\"What about them\"]],\n",
    "            [\"(.*) or (.*)\", # \" Or \" ability\n",
    "             [\"Tell me about one of them\"]],\n",
    "            [\"My name is (.*)\",  # my extra ability \n",
    "             [\"Hello %1\"]],\n",
    "            [\"quit\",\n",
    "             [\"Thank you for talking with me. Goodbye!\"]],\n",
    "        ]]\n",
    "        welcome = \"Hallo. Wor¸ber mˆchten Sie mit mir reden?\"\n",
    "        goodbye = \"bye\"\n",
    "        feelings = [\"‰ngstlich\", \"bedr¸ckt\", \"einsam\", \"erfreut\", \"gestresst\", \"gl¸cklich\", \"traurig\", \"unzufrieden\"]\n",
    "        dummy_sentences = [\n",
    "            \"Erz‰hlen Sie mir mehr davon.\",\n",
    "            \"Interessant.\",\n",
    "            \"Kˆnnen Sie das noch etwas genauer erkl‰ren?\",\n",
    "            \"Was denken Sie dar¸ber?\"\n",
    "        ]\n",
    "\n",
    "        # Greet the user\n",
    "        print(welcome);\n",
    "\n",
    "        # Process user input. Processing continues until the user says goodbye.\n",
    "        string = \"\"\n",
    "        while string != goodbye:\n",
    "            # Read user input\n",
    "            string = input()\n",
    "            for rule, value in rules:\n",
    "                match = rule.search(string) # iteration and searching \n",
    "                if match is not None:    # a match has been found\n",
    "                    resp = random.choice(value)    # choose a random response from the set of rules corresponding to the answer. \n",
    "                    while '%' in resp:       #if there is \"%1\" in the answer , we have to take the word from the question.\n",
    "                        pos = resp.find('%')    # to replace the \" %1\" in the response to make the answer make more sense. \n",
    "                        num = int(resp[pos + 1:pos + 2])\n",
    "                        resp = resp.replace(resp[pos:pos + 2], SimpleEliza.translate(match.group(num)))\n",
    "                    print(resp)\n",
    "\n"
   ]
  },
  {
   "cell_type": "code",
   "execution_count": null,
   "metadata": {},
   "outputs": [
    {
     "name": "stdout",
     "output_type": "stream",
     "text": [
      "Hallo. Wor¸ber mˆchten Sie mit mir reden?\n"
     ]
    }
   ],
   "source": [
    "my_eliza = SimpleEliza()\n",
    "my_eliza.run()"
   ]
  },
  {
   "cell_type": "markdown",
   "metadata": {},
   "source": [
    "<div class=\"task_description\">\n",
    "    <i class=\"task\">Homework 1.3</i> - <i class=\"points\">1 Punkt</i> <br><br>\n",
    "\n",
    "The answer lies in the regular expression. Basically, handling the answer as an array of Strings doesn't make sense \n",
    "for this task as you have to match the answer not based on the match of the string but on the form of the text.\n",
    "Plus, you can use whatever you have in the question to make an appropiate answer as well.\n",
    "I believe for this simple task, it can be done with strings but it will take more time and more complex coding. \n",
    "The biggest example, if we have to parse a date or a number or an email,with RE it is so simple but doing the same\n",
    "with string parsing is very long and complicated.\n",
    "\n",
    "All in all, using RE made the code looks nicer and easier to write and most importantly, smarter!</div>"
   ]
  },
  {
   "cell_type": "code",
   "execution_count": null,
   "metadata": {},
   "outputs": [],
   "source": []
  }
 ],
 "metadata": {
  "kernelspec": {
   "display_name": "Python 3",
   "language": "python",
   "name": "python3"
  },
  "language_info": {
   "codemirror_mode": {
    "name": "ipython",
    "version": 3
   },
   "file_extension": ".py",
   "mimetype": "text/x-python",
   "name": "python",
   "nbconvert_exporter": "python",
   "pygments_lexer": "ipython3",
   "version": "3.7.3"
  },
  "varInspector": {
   "cols": {
    "lenName": 16,
    "lenType": 16,
    "lenVar": 40
   },
   "kernels_config": {
    "python": {
     "delete_cmd_postfix": "",
     "delete_cmd_prefix": "del ",
     "library": "var_list.py",
     "varRefreshCmd": "print(var_dic_list())"
    },
    "r": {
     "delete_cmd_postfix": ") ",
     "delete_cmd_prefix": "rm(",
     "library": "var_list.r",
     "varRefreshCmd": "cat(var_dic_list()) "
    }
   },
   "types_to_exclude": [
    "module",
    "function",
    "builtin_function_or_method",
    "instance",
    "_Feature"
   ],
   "window_display": false
  }
 },
 "nbformat": 4,
 "nbformat_minor": 2
}
